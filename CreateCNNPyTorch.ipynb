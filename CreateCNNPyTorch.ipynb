{
  "nbformat": 4,
  "nbformat_minor": 0,
  "metadata": {
    "colab": {
      "provenance": []
    },
    "kernelspec": {
      "name": "python3",
      "display_name": "Python 3"
    },
    "language_info": {
      "name": "python"
    }
  },
  "cells": [
    {
      "cell_type": "code",
      "execution_count": 5,
      "metadata": {
        "id": "Ev6chy--Y0pO"
      },
      "outputs": [],
      "source": [
        "import torch\n",
        "import torch.nn as nn\n",
        "import torchvision\n",
        "import torchvision.transforms as transforms\n",
        "\n",
        "from torchvision import models\n",
        "from torchsummary import summary\n",
        "\n",
        "from torch.nn import Module\n",
        "from torch.nn import Conv2d\n",
        "from torch.nn import Linear\n",
        "from torch.nn import MaxPool2d\n",
        "from torch.nn import ReLU\n",
        "from torch.nn import LogSoftmax\n",
        "from torch import flatten"
      ]
    },
    {
      "cell_type": "code",
      "source": [
        "# Creating a CNN class\n",
        "class ConvNeuralNet(nn.Module):\n",
        "\t#  Determine what layers and their order in CNN object\n",
        "    def __init__(self, num_classes=2, input_size=(1,32,32)):\n",
        "        super(ConvNeuralNet, self).__init__()\n",
        "        self.conv_layer1 = nn.Conv2d(in_channels=1, out_channels=64, kernel_size=3)\n",
        "        self.conv_layer2 = nn.Conv2d(in_channels=64, out_channels=128, kernel_size=3)\n",
        "        self.conv_layer3 = nn.Conv2d(in_channels=128, out_channels=256, kernel_size=3)\n",
        "        self.conv_layer4 = nn.Conv2d(in_channels=256, out_channels=512, kernel_size=3)\n",
        "        self.flatten1 = nn.Flatten()\n",
        "        self.fcn1 = nn.Linear(self.conv_layer4.weight.shape[0]*(input_size[1]-8)*(input_size[1]-8), 128)\n",
        "        self.fcn2 = nn.Linear(128, num_classes)\n",
        "\n",
        "    # Progresses data across layers\n",
        "    def forward(self, x):\n",
        "        out = self.conv_layer1(x)\n",
        "        out = self.conv_layer2(out)\n",
        "        out = self.conv_layer3(out)\n",
        "        out = self.conv_layer4(out)\n",
        "        out = self.flatten1(out)\n",
        "        out = self.fcn1(out)\n",
        "\n",
        "        return out\n",
        "num_classes = 10\n",
        "input_size = (1, 32, 32)\n",
        "model = ConvNeuralNet(num_classes, input_size)\n",
        "\n",
        "summary(model, input_size)"
      ],
      "metadata": {
        "colab": {
          "base_uri": "https://localhost:8080/"
        },
        "id": "pt7EC6kXblWX",
        "outputId": "91ab2e21-2844-4652-a82d-a658bc5e862b"
      },
      "execution_count": 110,
      "outputs": [
        {
          "output_type": "stream",
          "name": "stdout",
          "text": [
            "----------------------------------------------------------------\n",
            "        Layer (type)               Output Shape         Param #\n",
            "================================================================\n",
            "            Conv2d-1           [-1, 64, 30, 30]             640\n",
            "            Conv2d-2          [-1, 128, 28, 28]          73,856\n",
            "            Conv2d-3          [-1, 256, 26, 26]         295,168\n",
            "            Conv2d-4          [-1, 512, 24, 24]       1,180,160\n",
            "           Flatten-5               [-1, 294912]               0\n",
            "            Linear-6                  [-1, 128]      37,748,864\n",
            "================================================================\n",
            "Total params: 39,298,688\n",
            "Trainable params: 39,298,688\n",
            "Non-trainable params: 0\n",
            "----------------------------------------------------------------\n",
            "Input size (MB): 0.00\n",
            "Forward/backward pass size (MB): 7.03\n",
            "Params size (MB): 149.91\n",
            "Estimated Total Size (MB): 156.94\n",
            "----------------------------------------------------------------\n"
          ]
        }
      ]
    },
    {
      "cell_type": "code",
      "source": [],
      "metadata": {
        "id": "4no9Tc0AtZDp"
      },
      "execution_count": null,
      "outputs": []
    }
  ]
}